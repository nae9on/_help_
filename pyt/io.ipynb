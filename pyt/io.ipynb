{
 "cells": [
  {
   "cell_type": "code",
   "execution_count": 1,
   "metadata": {},
   "outputs": [],
   "source": [
    "import numpy as np"
   ]
  },
  {
   "cell_type": "code",
   "execution_count": 2,
   "metadata": {},
   "outputs": [
    {
     "name": "stdout",
     "output_type": "stream",
     "text": [
      "[3 2 5 6 9 5 7 3 8 4 1 6 3 2 1 4 0 3 8 7 5 9 4]\n"
     ]
    }
   ],
   "source": [
    "array = np.random.randint(0,10,(23,))\n",
    "print(array)"
   ]
  },
  {
   "cell_type": "code",
   "execution_count": 3,
   "metadata": {},
   "outputs": [],
   "source": [
    "# write integers to a file\n",
    "with open('file.dat', 'w+') as f: # w+ creates file if it does not exist\n",
    "    for index,value in enumerate(array):\n",
    "        #f.write('index[{0}] = {1}\\n'.format(index,value)) #fance formatting\n",
    "        f.write('{0} '.format(value))\n",
    "        if((index+1)%5==0):\n",
    "            f.write('\\n')"
   ]
  },
  {
   "cell_type": "code",
   "execution_count": 4,
   "metadata": {},
   "outputs": [],
   "source": [
    "# read integers from a file\n",
    "data = np.zeros((array.size,), dtype=np.int)\n",
    "itr = 0\n",
    "with open('file.dat') as f:\n",
    "    for line in f:\n",
    "        listComp = [int(x) for x in line.split()]\n",
    "        for item in listComp:\n",
    "            data[itr] = item\n",
    "            itr = itr+1"
   ]
  },
  {
   "cell_type": "code",
   "execution_count": 5,
   "metadata": {},
   "outputs": [
    {
     "data": {
      "text/plain": [
       "array([3, 2, 5, 6, 9, 5, 7, 3, 8, 4, 1, 6, 3, 2, 1, 4, 0, 3, 8, 7, 5, 9,\n",
       "       4])"
      ]
     },
     "execution_count": 5,
     "metadata": {},
     "output_type": "execute_result"
    }
   ],
   "source": [
    "data"
   ]
  }
 ],
 "metadata": {
  "kernelspec": {
   "display_name": "Python 3",
   "language": "python",
   "name": "python3"
  },
  "language_info": {
   "codemirror_mode": {
    "name": "ipython",
    "version": 3
   },
   "file_extension": ".py",
   "mimetype": "text/x-python",
   "name": "python",
   "nbconvert_exporter": "python",
   "pygments_lexer": "ipython3",
   "version": "3.7.4"
  }
 },
 "nbformat": 4,
 "nbformat_minor": 2
}
