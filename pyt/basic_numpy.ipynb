{
 "cells": [
  {
   "cell_type": "code",
   "execution_count": 1,
   "metadata": {},
   "outputs": [
    {
     "name": "stdout",
     "output_type": "stream",
     "text": [
      "[[0. 0. 0.]\n",
      " [0. 0. 0.]] \n",
      "\n",
      "metadata : size=6, bytes=48, dim=2, shape=(2, 3)\n"
     ]
    }
   ],
   "source": [
    "# Basic numpy array\n",
    "import numpy as np\n",
    "ar = np.zeros((2,3),dtype=np.float64)\n",
    "print(ar,'\\n')\n",
    "print(\"metadata : size={0}, bytes={1}, dim={2}, shape={3}\".format(ar.size,ar.nbytes,ar.ndim,ar.shape))"
   ]
  },
  {
   "cell_type": "code",
   "execution_count": 2,
   "metadata": {},
   "outputs": [
    {
     "name": "stdout",
     "output_type": "stream",
     "text": [
      "[[[ 1  2  3]\n",
      "  [ 4  5  6]]\n",
      "\n",
      " [[ 7  8  9]\n",
      "  [10 11 12]]] \n",
      "\n",
      "metadata : size=12, bytes=48, dim=3, shape=(2, 2, 3) \n",
      "\n",
      "id(x)=2653557785904, id(y)=2653557786624 \n",
      "\n"
     ]
    }
   ],
   "source": [
    "# Reshape (copies data)\n",
    "x = np.arange(1,13,1)\n",
    "y = np.reshape(x,(2,2,3))\n",
    "print(y,'\\n')\n",
    "print(\"metadata : size={0}, bytes={1}, dim={2}, shape={3}\".format(y.size,y.nbytes,y.ndim,y.shape),'\\n')\n",
    "print(\"id(x)={0}, id(y)={1}\".format(id(x),id(y)),'\\n')"
   ]
  },
  {
   "cell_type": "code",
   "execution_count": 3,
   "metadata": {},
   "outputs": [
    {
     "name": "stdout",
     "output_type": "stream",
     "text": [
      "[[[ 0  0  0]\n",
      "  [ 0  0  0]]\n",
      "\n",
      " [[ 7  8  9]\n",
      "  [10 11 12]]] \n",
      "\n",
      "metadata : size=12, bytes=48, dim=3, shape=(2, 2, 3) \n",
      "\n",
      "[[7 0 0]\n",
      " [0 0 0]] \n",
      "\n",
      "id(y)=2653557786624, id(z)=2653557814256 \n",
      "\n"
     ]
    }
   ],
   "source": [
    "# View (does not copy)\n",
    "z = y[0,:,:]\n",
    "z[:] = 0\n",
    "print(y,'\\n')\n",
    "y[0,0,0] = 7\n",
    "print(\"metadata : size={0}, bytes={1}, dim={2}, shape={3}\".format(y.size,y.nbytes,y.ndim,y.shape),'\\n')\n",
    "print(z,'\\n')\n",
    "print(\"id(y)={0}, id(z)={1}\".format(id(y),id(z)),'\\n')"
   ]
  },
  {
   "cell_type": "code",
   "execution_count": 4,
   "metadata": {},
   "outputs": [
    {
     "name": "stdout",
     "output_type": "stream",
     "text": [
      "    A    + x  =       b\n",
      "[4 7 5 4] [14] [18 21 19 18]\n",
      "[2 8 3 0] [18] [20 26 21 18]\n",
      "[6 3 2 9] [14] [20 17 16 23]\n"
     ]
    }
   ],
   "source": [
    "# Broadcasting (prone to bugs!)\n",
    "A = np.random.randint(0,10,size=(3,4))\n",
    "x = np.random.randint(10,20,size=(3,1))\n",
    "b = A + x\n",
    "print(\"    {0}    + {1}  =       {2}\".format('A','x','b'))\n",
    "for i in range(A.shape[0]):\n",
    "    print(A[i,:],x[i],b[i])"
   ]
  },
  {
   "cell_type": "code",
   "execution_count": 5,
   "metadata": {},
   "outputs": [
    {
     "data": {
      "text/plain": [
       "array([12, 18, 10, 13])"
      ]
     },
     "execution_count": 5,
     "metadata": {},
     "output_type": "execute_result"
    }
   ],
   "source": [
    "# Sum vertically to obtain a row\n",
    "A.sum(axis=0)"
   ]
  },
  {
   "cell_type": "code",
   "execution_count": 6,
   "metadata": {},
   "outputs": [
    {
     "name": "stdout",
     "output_type": "stream",
     "text": [
      "(3,)\n",
      "(3, 1)\n"
     ]
    }
   ],
   "source": [
    "# Rank 1 array are prone to bugs\n",
    "\n",
    "# Bad practice\n",
    "x = np.random.randint(10,20,size=(3,)) # returns a rank 1 array\n",
    "print(x.shape)\n",
    "\n",
    "# Good practice\n",
    "x = np.random.randint(10,20,size=(3,1)) # return a row vector\n",
    "print(x.shape)\n",
    "\n",
    "# Use assertions to debug\n",
    "assert(x.shape==(3,1))"
   ]
  }
 ],
 "metadata": {
  "kernelspec": {
   "display_name": "Python 3",
   "language": "python",
   "name": "python3"
  },
  "language_info": {
   "codemirror_mode": {
    "name": "ipython",
    "version": 3
   },
   "file_extension": ".py",
   "mimetype": "text/x-python",
   "name": "python",
   "nbconvert_exporter": "python",
   "pygments_lexer": "ipython3",
   "version": "3.7.4"
  }
 },
 "nbformat": 4,
 "nbformat_minor": 2
}
