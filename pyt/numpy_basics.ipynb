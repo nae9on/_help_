{
 "cells": [
  {
   "cell_type": "code",
   "execution_count": 1,
   "metadata": {},
   "outputs": [
    {
     "name": "stdout",
     "output_type": "stream",
     "text": [
      "[[0. 0. 0.]\n",
      " [0. 0. 0.]] \n",
      "\n",
      "metadata : size=6, bytes=48, dim=2, shape=(2, 3)\n"
     ]
    }
   ],
   "source": [
    "# Basic numpy array\n",
    "import numpy as np\n",
    "ar = np.zeros((2,3),dtype=np.float64)\n",
    "print(ar,'\\n')\n",
    "print(\"metadata : size={0}, bytes={1}, dim={2}, shape={3}\".format(ar.size,ar.nbytes,ar.ndim,ar.shape))"
   ]
  },
  {
   "cell_type": "code",
   "execution_count": 2,
   "metadata": {},
   "outputs": [
    {
     "name": "stdout",
     "output_type": "stream",
     "text": [
      "[[[ 1  2  3]\n",
      "  [ 4  5  6]]\n",
      "\n",
      " [[ 7  8  9]\n",
      "  [10 11 12]]] \n",
      "\n",
      "metadata : size=12, bytes=48, dim=3, shape=(2, 2, 3) \n",
      "\n",
      "[[[1000    2    3]\n",
      "  [   4    5    6]]\n",
      "\n",
      " [[   7    8    9]\n",
      "  [  10   11   12]]] \n",
      "\n"
     ]
    }
   ],
   "source": [
    "# Reshape (creates a new view object if possible; otherwise, it copies data)\n",
    "x = np.arange(1,13,1).reshape((12,1))\n",
    "y = np.reshape(x,(2,2,-1))\n",
    "print(y,'\\n')\n",
    "print(\"metadata : size={0}, bytes={1}, dim={2}, shape={3}\".format(y.size,y.nbytes,y.ndim,y.shape),'\\n')\n",
    "x[0,0] = 1000\n",
    "print(y,'\\n')"
   ]
  },
  {
   "cell_type": "markdown",
   "metadata": {},
   "source": [
    "[Reference: numpy.reshape](https://docs.scipy.org/doc/numpy/reference/generated/numpy.reshape.html)\n",
    "\n",
    "Note: when a shape arg is -1, the arg is automatically inferred from other args.\n",
    "\n",
    "In the above example, a view object is created and the data is thus not copied. However, to make sure that the data is not copied while reshaping, use explicit view and then force the shape as shown [here](https://docs.scipy.org/doc/numpy/reference/generated/numpy.reshape.html)\n",
    "."
   ]
  },
  {
   "cell_type": "code",
   "execution_count": 3,
   "metadata": {},
   "outputs": [
    {
     "name": "stdout",
     "output_type": "stream",
     "text": [
      "[[[1000    2    3]\n",
      "  [   4    5    6]]\n",
      "\n",
      " [[   0    0    0]\n",
      "  [   0    0    0]]] \n",
      "\n",
      "metadata : size=12, bytes=48, dim=3, shape=(2, 2, 3) \n",
      "\n",
      "[[7 0 0]\n",
      " [0 0 0]] \n",
      "\n"
     ]
    }
   ],
   "source": [
    "# View (does not copy)\n",
    "z = y[1,:,:]\n",
    "z[:] = 0\n",
    "print(y,'\\n')\n",
    "y[1,0,0] = 7\n",
    "print(\"metadata : size={0}, bytes={1}, dim={2}, shape={3}\".format(y.size,y.nbytes,y.ndim,y.shape),'\\n')\n",
    "print(z,'\\n')"
   ]
  },
  {
   "cell_type": "code",
   "execution_count": 4,
   "metadata": {},
   "outputs": [
    {
     "name": "stdout",
     "output_type": "stream",
     "text": [
      "    A    + x  =       b\n",
      "[2 1 7 8] [14] [16 15 21 22]\n",
      "[9 3 9 6] [11] [20 14 20 17]\n",
      "[4 7 0 9] [17] [21 24 17 26]\n"
     ]
    }
   ],
   "source": [
    "# Broadcasting (prone to bugs!)\n",
    "A = np.random.randint(0,10,size=(3,4))\n",
    "x = np.random.randint(10,20,size=(3,1))\n",
    "b = A + x\n",
    "print(\"    {0}    + {1}  =       {2}\".format('A','x','b'))\n",
    "for i in range(A.shape[0]):\n",
    "    print(A[i,:],x[i],b[i])"
   ]
  },
  {
   "cell_type": "code",
   "execution_count": 5,
   "metadata": {},
   "outputs": [
    {
     "name": "stdout",
     "output_type": "stream",
     "text": [
      "[[3 1 6 6]\n",
      " [0 2 6 8]\n",
      " [8 0 0 6]] \n",
      "\n",
      " [11  3 12 20]    (4,)\n",
      "[[11  3 12 20]]   (1, 4)\n"
     ]
    }
   ],
   "source": [
    "# Sum vertically to obtain a row (Note use of keepdims is important to avoid bad rank 1 array)\n",
    "A = np.random.randint(0,10,size=(3,4))\n",
    "B = np.sum(A, axis = 0)\n",
    "print(A,'\\n\\n',B,'  ',B.shape)\n",
    "B = np.sum(A, axis = 0, keepdims = True)\n",
    "print(B,' ',B.shape)"
   ]
  },
  {
   "cell_type": "code",
   "execution_count": 6,
   "metadata": {},
   "outputs": [
    {
     "name": "stdout",
     "output_type": "stream",
     "text": [
      "(3,)\n",
      "(3, 1)\n"
     ]
    }
   ],
   "source": [
    "# Rank 1 array are prone to bugs\n",
    "\n",
    "# Bad practice\n",
    "x = np.random.randint(10,20,size=(3,)) # returns a rank 1 array\n",
    "print(x.shape)\n",
    "\n",
    "# Good practice\n",
    "x = np.random.randint(10,20,size=(3,1)) # return a row vector\n",
    "print(x.shape)\n",
    "\n",
    "# Use assertions to debug\n",
    "assert(x.shape==(3,1))"
   ]
  },
  {
   "cell_type": "code",
   "execution_count": 7,
   "metadata": {},
   "outputs": [
    {
     "name": "stdout",
     "output_type": "stream",
     "text": [
      "[0 1 0 0 0 0 0 1 0 1]\n",
      "['T', 'H', 'T', 'T', 'T', 'T', 'T', 'H', 'T', 'H'] ['T' 'H' 'T' 'T' 'T' 'T' 'T' 'H' 'T' 'H']\n"
     ]
    }
   ],
   "source": [
    "# np.where as an alternative to list comprehension\n",
    "condition = np.random.randint(0,2,10) # boolean condition\n",
    "print(condition)\n",
    "head = np.array(list('H'*10))\n",
    "tails = np.array(list('T'*10))\n",
    "p1 = [(h if c else t) for c,h,t in zip(condition,head,tails)]\n",
    "p2 = np.where(condition,head,tails)\n",
    "print(p1,p2)"
   ]
  },
  {
   "cell_type": "code",
   "execution_count": 8,
   "metadata": {},
   "outputs": [
    {
     "name": "stdout",
     "output_type": "stream",
     "text": [
      "shape of x before squueze  (1, 1, 3)\n",
      "shape of x after squueze  (3,)\n"
     ]
    }
   ],
   "source": [
    "# squeeze removea single-dimensional entries from the shape of an array.\n",
    "# It basically returns a rank 1 array\n",
    "x = np.array([[[1, 2, 3]]])\n",
    "print(\"shape of x before squueze \",x.shape)\n",
    "x = np.squeeze(x)\n",
    "print(\"shape of x after squueze \",x.shape)"
   ]
  }
 ],
 "metadata": {
  "kernelspec": {
   "display_name": "Python 3",
   "language": "python",
   "name": "python3"
  },
  "language_info": {
   "codemirror_mode": {
    "name": "ipython",
    "version": 3
   },
   "file_extension": ".py",
   "mimetype": "text/x-python",
   "name": "python",
   "nbconvert_exporter": "python",
   "pygments_lexer": "ipython3",
   "version": "3.7.4"
  }
 },
 "nbformat": 4,
 "nbformat_minor": 2
}
