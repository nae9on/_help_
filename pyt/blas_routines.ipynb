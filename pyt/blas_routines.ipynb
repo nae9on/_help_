{
 "cells": [
  {
   "cell_type": "code",
   "execution_count": 1,
   "metadata": {},
   "outputs": [],
   "source": [
    "import numpy as np"
   ]
  },
  {
   "cell_type": "code",
   "execution_count": 2,
   "metadata": {},
   "outputs": [
    {
     "name": "stdout",
     "output_type": "stream",
     "text": [
      "    A      x = b\n",
      "[2 6 9 8] [9] [104]\n",
      "[7 1 6 5] [0] [119]\n",
      "[7 8 3 1] [6] [85]\n",
      "[2 4 5 9] [4] [84]\n"
     ]
    }
   ],
   "source": [
    "# Matrix vector product\n",
    "# Note: np.multiply() and the * operator are equivalent to .* in Matlab/Octave\n",
    "A = np.random.randint(0,10,size=(4,4))\n",
    "x = np.random.randint(0,10,size=(4,1))\n",
    "b = np.dot(A,x)\n",
    "\n",
    "print(\"    {0}      {1} = {2}\".format('A','x','b'))\n",
    "\n",
    "for i in range(A.shape[1]):\n",
    "    print(A[i,:],x[i],b[i])"
   ]
  }
 ],
 "metadata": {
  "kernelspec": {
   "display_name": "Python 3",
   "language": "python",
   "name": "python3"
  },
  "language_info": {
   "codemirror_mode": {
    "name": "ipython",
    "version": 3
   },
   "file_extension": ".py",
   "mimetype": "text/x-python",
   "name": "python",
   "nbconvert_exporter": "python",
   "pygments_lexer": "ipython3",
   "version": "3.7.4"
  }
 },
 "nbformat": 4,
 "nbformat_minor": 2
}
