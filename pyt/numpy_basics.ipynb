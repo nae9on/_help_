{
 "cells": [
  {
   "cell_type": "code",
   "execution_count": 1,
   "metadata": {},
   "outputs": [
    {
     "name": "stdout",
     "output_type": "stream",
     "text": [
      "[[0. 0. 0.]\n",
      " [0. 0. 0.]] \n",
      "\n",
      "metadata : size=6, bytes=48, dim=2, shape=(2, 3)\n"
     ]
    }
   ],
   "source": [
    "# Basic numpy array\n",
    "import numpy as np\n",
    "ar = np.zeros((2,3),dtype=np.float64)\n",
    "print(ar,'\\n')\n",
    "print('metadata : size={0}, bytes={1}, dim={2}, shape={3}'.format(ar.size,ar.nbytes,ar.ndim,ar.shape))"
   ]
  },
  {
   "cell_type": "code",
   "execution_count": 2,
   "metadata": {},
   "outputs": [
    {
     "name": "stdout",
     "output_type": "stream",
     "text": [
      "[[[ 1  2  3]\n",
      "  [ 4  5  6]]\n",
      "\n",
      " [[ 7  8  9]\n",
      "  [10 11 12]]] \n",
      "\n",
      "metadata : size=12, bytes=48, dim=3, shape=(2, 2, 3)\n"
     ]
    }
   ],
   "source": [
    "# reshape (copies data)\n",
    "x = np.arange(1,13,1)\n",
    "y = np.reshape(x,(2,2,3))\n",
    "print(y,'\\n')\n",
    "print('metadata : size={0}, bytes={1}, dim={2}, shape={3}'.format(y.size,y.nbytes,y.ndim,y.shape))"
   ]
  },
  {
   "cell_type": "code",
   "execution_count": 3,
   "metadata": {},
   "outputs": [
    {
     "name": "stdout",
     "output_type": "stream",
     "text": [
      "[[[ 0  0  0]\n",
      "  [ 0  0  0]]\n",
      "\n",
      " [[ 7  8  9]\n",
      "  [10 11 12]]] \n",
      "\n",
      "metadata : size=12, bytes=48, dim=3, shape=(2, 2, 3)\n"
     ]
    }
   ],
   "source": [
    "# view (does not copy)\n",
    "z = y[0,:,:]\n",
    "z[:] = 0\n",
    "print(y,'\\n')\n",
    "print('metadata : size={0}, bytes={1}, dim={2}, shape={3}'.format(y.size,y.nbytes,y.ndim,y.shape))"
   ]
  }
 ],
 "metadata": {
  "kernelspec": {
   "display_name": "Python 3",
   "language": "python",
   "name": "python3"
  },
  "language_info": {
   "codemirror_mode": {
    "name": "ipython",
    "version": 3
   },
   "file_extension": ".py",
   "mimetype": "text/x-python",
   "name": "python",
   "nbconvert_exporter": "python",
   "pygments_lexer": "ipython3",
   "version": "3.7.4"
  }
 },
 "nbformat": 4,
 "nbformat_minor": 2
}
