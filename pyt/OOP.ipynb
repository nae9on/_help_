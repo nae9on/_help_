{
 "cells": [
  {
   "cell_type": "markdown",
   "metadata": {},
   "source": [
    "# OOP in Python"
   ]
  },
  {
   "cell_type": "markdown",
   "metadata": {},
   "source": [
    "References\n",
    "https://docs.python.org/3/tutorial/classes.html"
   ]
  },
  {
   "cell_type": "code",
   "execution_count": 1,
   "metadata": {},
   "outputs": [
    {
     "name": "stdout",
     "output_type": "stream",
     "text": [
      "The Zen of Python, by Tim Peters\n",
      "\n",
      "Beautiful is better than ugly.\n",
      "Explicit is better than implicit.\n",
      "Simple is better than complex.\n",
      "Complex is better than complicated.\n",
      "Flat is better than nested.\n",
      "Sparse is better than dense.\n",
      "Readability counts.\n",
      "Special cases aren't special enough to break the rules.\n",
      "Although practicality beats purity.\n",
      "Errors should never pass silently.\n",
      "Unless explicitly silenced.\n",
      "In the face of ambiguity, refuse the temptation to guess.\n",
      "There should be one-- and preferably only one --obvious way to do it.\n",
      "Although that way may not be obvious at first unless you're Dutch.\n",
      "Now is better than never.\n",
      "Although never is often better than *right* now.\n",
      "If the implementation is hard to explain, it's a bad idea.\n",
      "If the implementation is easy to explain, it may be a good idea.\n",
      "Namespaces are one honking great idea -- let's do more of those!\n"
     ]
    }
   ],
   "source": [
    "import math\n",
    "import this"
   ]
  },
  {
   "cell_type": "markdown",
   "metadata": {},
   "source": [
    "## Modules, scopes and namespaces\n",
    "1. `dir()` command can be used to list all the names in the current scope.\n",
    "2. Every module spans a scope. Ex for numpy module, `dir(np)` can be used to list all the names in the scope.\n",
    "3. Every module/scope has an attribute `__name__` which can be used to query its name. Ex `np.__name__` is \"numpy\".\n",
    "4. The top level code (right after launching the python interpreter), executes in the scope with `__name__` = \"__main__\".\n",
    "\n",
    "Refer [here](https://docs.python.org/3/library/__main__.html#module-__main__) for further information on \"__main__\"\n",
    "\n",
    "Namespaces are created at different moments and have different lifetimes. Types of namespaces:\n",
    "1. \"local\" - innermost scope that’s local to a function. If you refer to x inside a function, then the interpreter first searches for it in this scope.\n",
    "2. \"nonlocal\" - enclosing function’s scope. If x isn’t in the local scope then the interpreter looks in the nonlocal scope.\n",
    "3. \"global\" - outermost scope with `__name__` = \"__main__\". If neither of the above searches is fruitful, then the interpreter looks in the global scope next. The global namespace is created when python environment is first entered, and is never deleted.\n",
    "4. \"\\__builtins\\__\" - contains built-in names (ex `abs()` etc). If it can’t find x anywhere else, then the interpreter tries the this scope. It is created when the Python interpreter starts up, and is never deleted.\n",
    "\n",
    "Note: `del obj.attr` will remove the attribute (or name) `attr` from the object (or namespace) named by `obj`."
   ]
  },
  {
   "cell_type": "code",
   "execution_count": 2,
   "metadata": {},
   "outputs": [
    {
     "name": "stdout",
     "output_type": "stream",
     "text": [
      "After local assignment: test spam\n",
      "After nonlocal assignment: nonlocal spam\n",
      "After global assignment: nonlocal spam\n",
      "In global scope: global spam\n"
     ]
    }
   ],
   "source": [
    "def scope_test():\n",
    "    def do_local():\n",
    "        spam = \"local spam\" #spam is in local scope\n",
    "\n",
    "    def do_nonlocal():\n",
    "        nonlocal spam #spam is in enclosing function's scope\n",
    "        spam = \"nonlocal spam\"\n",
    "\n",
    "    def do_global():\n",
    "        global spam #spam is in global (or module-level) scope\n",
    "        spam = \"global spam\"\n",
    "\n",
    "    spam = \"test spam\"\n",
    "    do_local()\n",
    "    print(\"After local assignment:\", spam)\n",
    "    do_nonlocal()\n",
    "    print(\"After nonlocal assignment:\", spam)\n",
    "    do_global()\n",
    "    print(\"After global assignment:\", spam)\n",
    "\n",
    "scope_test()\n",
    "print(\"In global scope:\", spam)"
   ]
  },
  {
   "cell_type": "markdown",
   "metadata": {},
   "source": [
    "Classes - points to remember\n",
    "1. In Python, classes are created at runtime, and can be modified further after creation.\n",
    "2. Class members are public and all member functions are virtual.\n",
    "3. Classes themselves are objects.\n",
    "4. Unlike C++, built-in types can also be used as base classes for extension.\n",
    "5. Built-in operators can be re-defined for user-defined types.\n",
    "6. There is no concept of private data members. Clients should therefore use data attributes with care - clients may mess up invariants maintained by the methods by stamping on their data attributes. Note that clients may add data attributes of their own to an instance object."
   ]
  },
  {
   "cell_type": "code",
   "execution_count": 3,
   "metadata": {},
   "outputs": [],
   "source": [
    "# Function defined outside the class\n",
    "def ratio(self, x, y):\n",
    "    return y/x\n",
    "\n",
    "class MyComplex:\n",
    "    \"\"\"A simple example class\"\"\"\n",
    "    real = 0 # class variable shared by all instances\n",
    "    imag = 0 # class variable shared by all instances\n",
    "\n",
    "    def mag(self):\n",
    "        return math.sqrt(self.real*self.real+self.imag*self.imag)\n",
    "    \n",
    "    #Member functions can be assigned to function objects defined inside or outside the class\n",
    "    slope = ratio # bad design but allowed!\n",
    "    mag2 = mag # bad design but allowed!\n",
    "    \n",
    "    #Only one ctor allowed!\n",
    "    def __init__(self, real=None, imag=None):\n",
    "        if real is not None:\n",
    "            self.real = real\n",
    "        if imag is not None:\n",
    "            self.imag = imag\n",
    "            \n",
    "        # Data attributes need not be declared; like local variables, they spring\n",
    "        # into existence when they are first assigned to.\n",
    "        # Note tolerance cannot be accessed as MyComplex.tolerance\n",
    "        self.tolerance = 1e-6 # instance variable unique to each instance"
   ]
  },
  {
   "cell_type": "code",
   "execution_count": 4,
   "metadata": {},
   "outputs": [],
   "source": [
    "c1 = MyComplex(3,4)\n",
    "c1.origin = (0, 0)"
   ]
  },
  {
   "cell_type": "code",
   "execution_count": 5,
   "metadata": {},
   "outputs": [
    {
     "name": "stdout",
     "output_type": "stream",
     "text": [
      "0 0 <function MyComplex.mag at 0x0000028A69B18678> A simple example class\n",
      "3 4 5.0 1e-06 A simple example class\n"
     ]
    }
   ],
   "source": [
    "# Note: c1.mag() and MyComplex.mag(x) are equivalent\n",
    "print(MyComplex.real, MyComplex.imag, MyComplex.mag, MyComplex.__doc__)\n",
    "print(c1.real, c1.imag, c1.mag(), c1.tolerance, c1.__doc__)"
   ]
  },
  {
   "cell_type": "code",
   "execution_count": 6,
   "metadata": {},
   "outputs": [],
   "source": [
    "# Python equivalent of a C++ struct is an empty class\n",
    "class Employee:\n",
    "    pass\n",
    "\n",
    "john = Employee()  # Create an empty employee struct\n",
    "\n",
    "# Fill the fields of the struct\n",
    "john.name = 'John Doe'\n",
    "john.dept = 'computer lab'\n",
    "john.salary = 1000"
   ]
  },
  {
   "cell_type": "code",
   "execution_count": 7,
   "metadata": {},
   "outputs": [],
   "source": [
    "# Adding iterator behavior to classes\n",
    "class Reverse:\n",
    "    \"\"\"Iterator for looping over a sequence backwards.\"\"\"\n",
    "    def __init__(self, data):\n",
    "        self.data = data\n",
    "        self.index = len(data)\n",
    "\n",
    "    def __iter__(self):\n",
    "        return self\n",
    "\n",
    "    def __next__(self):\n",
    "        if self.index == 0:\n",
    "            raise StopIteration\n",
    "        self.index = self.index - 1\n",
    "        return self.data[self.index]"
   ]
  },
  {
   "cell_type": "code",
   "execution_count": 8,
   "metadata": {},
   "outputs": [
    {
     "name": "stdout",
     "output_type": "stream",
     "text": [
      "m\n",
      "a\n",
      "p\n",
      "s\n"
     ]
    }
   ],
   "source": [
    "rev = Reverse('spam')\n",
    "for ch in rev:\n",
    "    print(ch)"
   ]
  },
  {
   "cell_type": "code",
   "execution_count": 9,
   "metadata": {},
   "outputs": [],
   "source": [
    "# The same using generators\n",
    "def reverse(data):\n",
    "    for index in range(len(data)-1, -1, -1):\n",
    "        yield data[index]"
   ]
  },
  {
   "cell_type": "code",
   "execution_count": 10,
   "metadata": {},
   "outputs": [
    {
     "name": "stdout",
     "output_type": "stream",
     "text": [
      "m\n",
      "a\n",
      "p\n",
      "s\n"
     ]
    }
   ],
   "source": [
    "rev = Reverse('spam')\n",
    "for ch in rev:\n",
    "    print(ch)"
   ]
  },
  {
   "cell_type": "code",
   "execution_count": null,
   "metadata": {},
   "outputs": [],
   "source": []
  }
 ],
 "metadata": {
  "kernelspec": {
   "display_name": "Python 3",
   "language": "python",
   "name": "python3"
  },
  "language_info": {
   "codemirror_mode": {
    "name": "ipython",
    "version": 3
   },
   "file_extension": ".py",
   "mimetype": "text/x-python",
   "name": "python",
   "nbconvert_exporter": "python",
   "pygments_lexer": "ipython3",
   "version": "3.7.4"
  }
 },
 "nbformat": 4,
 "nbformat_minor": 2
}
