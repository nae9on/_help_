{
 "cells": [
  {
   "cell_type": "code",
   "execution_count": 1,
   "metadata": {},
   "outputs": [
    {
     "name": "stdout",
     "output_type": "stream",
     "text": [
      "[[0. 0. 0.]\n",
      " [0. 0. 0.]] \n",
      "\n",
      "metadata : size=6, bytes=48, dim=2, shape=(2, 3)\n"
     ]
    }
   ],
   "source": [
    "# Basic numpy array\n",
    "import numpy as np\n",
    "ar = np.zeros((2,3),dtype=np.float64)\n",
    "print(ar,'\\n')\n",
    "print(\"metadata : size={0}, bytes={1}, dim={2}, shape={3}\".format(ar.size,ar.nbytes,ar.ndim,ar.shape))"
   ]
  },
  {
   "cell_type": "code",
   "execution_count": 2,
   "metadata": {},
   "outputs": [
    {
     "name": "stdout",
     "output_type": "stream",
     "text": [
      "[[[ 1  2  3]\n",
      "  [ 4  5  6]]\n",
      "\n",
      " [[ 7  8  9]\n",
      "  [10 11 12]]] \n",
      "\n",
      "metadata : size=12, bytes=48, dim=3, shape=(2, 2, 3) \n",
      "\n",
      "[[[1000    2    3]\n",
      "  [   4    5    6]]\n",
      "\n",
      " [[   7    8    9]\n",
      "  [  10   11   12]]] \n",
      "\n"
     ]
    }
   ],
   "source": [
    "# Reshape (creates a new view object if possible; otherwise, it copies data)\n",
    "x = np.arange(1,13,1).reshape((12,1))\n",
    "y = np.reshape(x,(2,2,-1))\n",
    "print(y,'\\n')\n",
    "print(\"metadata : size={0}, bytes={1}, dim={2}, shape={3}\".format(y.size,y.nbytes,y.ndim,y.shape),'\\n')\n",
    "x[0,0] = 1000\n",
    "print(y,'\\n')"
   ]
  },
  {
   "cell_type": "markdown",
   "metadata": {},
   "source": [
    "[Reference: numpy.reshape](https://docs.scipy.org/doc/numpy/reference/generated/numpy.reshape.html)\n",
    "\n",
    "Note: when a shape arg is -1, the arg is automatically inferred from other args.\n",
    "\n",
    "In the above example, a view object is created and the data is thus not copied. However, to make sure that the data is not copied while reshaping, use explicit view and then force the shape as shown [here](https://docs.scipy.org/doc/numpy/reference/generated/numpy.reshape.html)\n",
    "."
   ]
  },
  {
   "cell_type": "code",
   "execution_count": 3,
   "metadata": {},
   "outputs": [
    {
     "name": "stdout",
     "output_type": "stream",
     "text": [
      "[[[1000    2    3]\n",
      "  [   4    5    6]]\n",
      "\n",
      " [[   0    0    0]\n",
      "  [   0    0    0]]] \n",
      "\n",
      "metadata : size=12, bytes=48, dim=3, shape=(2, 2, 3) \n",
      "\n",
      "[[7 0 0]\n",
      " [0 0 0]] \n",
      "\n"
     ]
    }
   ],
   "source": [
    "# View (does not copy)\n",
    "z = y[1,:,:]\n",
    "z[:] = 0\n",
    "print(y,'\\n')\n",
    "y[1,0,0] = 7\n",
    "print(\"metadata : size={0}, bytes={1}, dim={2}, shape={3}\".format(y.size,y.nbytes,y.ndim,y.shape),'\\n')\n",
    "print(z,'\\n')"
   ]
  },
  {
   "cell_type": "code",
   "execution_count": 4,
   "metadata": {},
   "outputs": [
    {
     "name": "stdout",
     "output_type": "stream",
     "text": [
      "    A    + x  =       b\n",
      "[8 0 8 0] [12] [20 12 20 12]\n",
      "[7 0 1 1] [16] [23 16 17 17]\n",
      "[1 0 0 3] [14] [15 14 14 17]\n"
     ]
    }
   ],
   "source": [
    "# Broadcasting (prone to bugs!)\n",
    "A = np.random.randint(0,10,size=(3,4))\n",
    "x = np.random.randint(10,20,size=(3,1))\n",
    "b = A + x\n",
    "print(\"    {0}    + {1}  =       {2}\".format('A','x','b'))\n",
    "for i in range(A.shape[0]):\n",
    "    print(A[i,:],x[i],b[i])"
   ]
  },
  {
   "cell_type": "code",
   "execution_count": 5,
   "metadata": {},
   "outputs": [
    {
     "name": "stdout",
     "output_type": "stream",
     "text": [
      "[[7 1 0 4]\n",
      " [3 1 9 4]\n",
      " [9 4 3 9]] \n",
      "\n",
      " [19  6 12 17]    (4,)\n",
      "[[19  6 12 17]]   (1, 4)\n"
     ]
    }
   ],
   "source": [
    "# Sum vertically to obtain a row (Note use of keepdims is important to avoid bad rank 1 array)\n",
    "A = np.random.randint(0,10,size=(3,4))\n",
    "B = np.sum(A, axis = 0)\n",
    "print(A,'\\n\\n',B,'  ',B.shape)\n",
    "B = np.sum(A, axis = 0, keepdims = True)\n",
    "print(B,' ',B.shape)"
   ]
  },
  {
   "cell_type": "code",
   "execution_count": 6,
   "metadata": {},
   "outputs": [
    {
     "name": "stdout",
     "output_type": "stream",
     "text": [
      "(3,)\n",
      "(3, 1)\n"
     ]
    }
   ],
   "source": [
    "# Rank 1 array are prone to bugs\n",
    "\n",
    "# Bad practice\n",
    "x = np.random.randint(10,20,size=(3,)) # returns a rank 1 array\n",
    "print(x.shape)\n",
    "\n",
    "# Good practice\n",
    "x = np.random.randint(10,20,size=(3,1)) # return a row vector\n",
    "print(x.shape)\n",
    "\n",
    "# Use assertions to debug\n",
    "assert(x.shape==(3,1))"
   ]
  },
  {
   "cell_type": "code",
   "execution_count": 7,
   "metadata": {},
   "outputs": [
    {
     "name": "stdout",
     "output_type": "stream",
     "text": [
      "[0 1 1 1 1 0 0 0 0 0]\n",
      "['T', 'H', 'H', 'H', 'H', 'T', 'T', 'T', 'T', 'T'] ['T' 'H' 'H' 'H' 'H' 'T' 'T' 'T' 'T' 'T']\n"
     ]
    }
   ],
   "source": [
    "# np.where as an alternative to list comprehension\n",
    "condition = np.random.randint(0,2,10) # boolean condition\n",
    "print(condition)\n",
    "head = np.array(list('H'*10))\n",
    "tails = np.array(list('T'*10))\n",
    "p1 = [(h if c else t) for c,h,t in zip(condition,head,tails)]\n",
    "p2 = np.where(condition,head,tails)\n",
    "print(p1,p2)"
   ]
  },
  {
   "cell_type": "code",
   "execution_count": 8,
   "metadata": {},
   "outputs": [
    {
     "name": "stdout",
     "output_type": "stream",
     "text": [
      "shape of x before squueze  (1, 1, 3)\n",
      "shape of x after squueze  (3,)\n"
     ]
    }
   ],
   "source": [
    "# squeeze removea single-dimensional entries from the shape of an array.\n",
    "# It basically returns a rank 1 array\n",
    "x = np.array([[[1, 2, 3]]])\n",
    "print(\"shape of x before squueze \",x.shape)\n",
    "x = np.squeeze(x)\n",
    "print(\"shape of x after squueze \",x.shape)"
   ]
  },
  {
   "cell_type": "code",
   "execution_count": 9,
   "metadata": {},
   "outputs": [
    {
     "name": "stdout",
     "output_type": "stream",
     "text": [
      "     A     * x = b\n",
      "[8 0 7 9 7] [4] [218]\n",
      "[4 1 7 8 5] [4] [179]\n",
      "[4 2 2 8 9] [6] [189]\n",
      "[5 3 1 5 0] [9] [83]\n",
      "[0 3 5 3 8] [9] [141]\n",
      "\n",
      "permutation [1, 0, 3, 2, 4] \n",
      "\n",
      "     A     * x = b\n",
      "[0 8 9 7 7] [4] [218]\n",
      "[1 4 8 7 5] [4] [179]\n",
      "[2 4 8 2 9] [9] [189]\n",
      "[3 5 5 1 0] [6] [83]\n",
      "[3 0 3 5 8] [9] [141]\n"
     ]
    }
   ],
   "source": [
    "# random permutation using np.random.permutation\n",
    "m = 5\n",
    "A = np.random.randint(0,10,size=(m,m))\n",
    "x = np.random.randint(0,10,size=(m,1))\n",
    "b = np.dot(A,x)\n",
    "print(\"     {0}     * {1} = {2}\".format('A','x','b'))\n",
    "for i in range(A.shape[0]):\n",
    "    print(A[i,:],x[i],b[i])\n",
    "    \n",
    "permutation = list(np.random.permutation(m))\n",
    "print(\"\\npermutation\",permutation,\"\\n\")\n",
    "shuffled_A = A[:, permutation]\n",
    "shuffled_x = x[permutation,:]\n",
    "shuffled_b = np.dot(shuffled_A,shuffled_x)\n",
    "print(\"     {0}     * {1} = {2}\".format('A','x','b'))\n",
    "for i in range(A.shape[0]):\n",
    "    print(shuffled_A[i,:],shuffled_x[i],shuffled_b[i])"
   ]
  },
  {
   "cell_type": "code",
   "execution_count": 10,
   "metadata": {},
   "outputs": [
    {
     "name": "stdout",
     "output_type": "stream",
     "text": [
      "x = \n",
      " [[3 7 8 6]\n",
      " [9 5 2 3]\n",
      " [7 9 8 9]]\n",
      "sorted index = \n",
      " [[0 3 1 2]\n",
      " [2 3 1 0]\n",
      " [0 2 1 3]]\n"
     ]
    }
   ],
   "source": [
    "# Get index after sorting\n",
    "x = np.random.randint(0,10,(3,4))\n",
    "print('x = \\n', x)\n",
    "sortedidx = np.argsort(x,axis=1)\n",
    "print('sorted index = \\n',sortedidx)"
   ]
  },
  {
   "cell_type": "code",
   "execution_count": 11,
   "metadata": {},
   "outputs": [
    {
     "name": "stdout",
     "output_type": "stream",
     "text": [
      "x = \n",
      " [[2 9 4]\n",
      " [5 6 8]]\n",
      "y = \n",
      " [[8 9 3]\n",
      " [1 3 4]]\n",
      "vertical(axis=0) concatenate, z = \n",
      " [[2 9 4]\n",
      " [5 6 8]\n",
      " [8 9 3]\n",
      " [1 3 4]]\n",
      "horizontal(axis=1) concatenate, z = \n",
      " [[2 9 4 8 9 3]\n",
      " [5 6 8 1 3 4]]\n"
     ]
    }
   ],
   "source": [
    "#Concatenate\n",
    "x = np.random.randint(0,10,(2,3))\n",
    "y = np.random.randint(0,10,(2,3))\n",
    "print('x = \\n', x)\n",
    "print('y = \\n', y)\n",
    "z = np.concatenate((x,y),axis=0)\n",
    "print('vertical(axis=0) concatenate, z = \\n', z)\n",
    "z = np.concatenate((x,y),axis=1)\n",
    "print('horizontal(axis=1) concatenate, z = \\n', z)"
   ]
  },
  {
   "cell_type": "code",
   "execution_count": 12,
   "metadata": {},
   "outputs": [
    {
     "name": "stdout",
     "output_type": "stream",
     "text": [
      "x = \n",
      " [[5 9 6]\n",
      " [5 0 0]]\n",
      "Ravelled x =  [5 9 6 5 0 0] and has shape  (6,)\n"
     ]
    }
   ],
   "source": [
    "# Raveling\n",
    "# numpy.ravel takes a multi-dimensional array and returns its contents inside of a 1D vector.\n",
    "x = np.random.randint(0,10,(2,3))\n",
    "print('x = \\n',x)\n",
    "print('Ravelled x = ',x.ravel(),'and has shape ',x.ravel().shape)"
   ]
  },
  {
   "cell_type": "code",
   "execution_count": null,
   "metadata": {},
   "outputs": [],
   "source": []
  }
 ],
 "metadata": {
  "kernelspec": {
   "display_name": "Python 3",
   "language": "python",
   "name": "python3"
  },
  "language_info": {
   "codemirror_mode": {
    "name": "ipython",
    "version": 3
   },
   "file_extension": ".py",
   "mimetype": "text/x-python",
   "name": "python",
   "nbconvert_exporter": "python",
   "pygments_lexer": "ipython3",
   "version": "3.7.4"
  }
 },
 "nbformat": 4,
 "nbformat_minor": 2
}
