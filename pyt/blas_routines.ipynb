{
 "cells": [
  {
   "cell_type": "code",
   "execution_count": 1,
   "metadata": {},
   "outputs": [],
   "source": [
    "import numpy as np"
   ]
  },
  {
   "cell_type": "code",
   "execution_count": 2,
   "metadata": {},
   "outputs": [
    {
     "name": "stdout",
     "output_type": "stream",
     "text": [
      "    A      x = b\n",
      "[8 6 0 4] [9] [120]\n",
      "[6 9 0 9] [8] [126]\n",
      "[4 8 5 1] [7] [135]\n",
      "[5 9 6 3] [0] [159]\n"
     ]
    }
   ],
   "source": [
    "# Matrix vector product\n",
    "\n",
    "A = np.random.randint(0,10,size=(4,4))\n",
    "x = np.random.randint(0,10,size=(4,1))\n",
    "b = np.dot(A,x)\n",
    "\n",
    "print(\"    {0}      {1} = {2}\".format('A','x','b'))\n",
    "\n",
    "for i in range(A.shape[1]):\n",
    "    print(A[i,:],x[i],b[i])"
   ]
  },
  {
   "cell_type": "code",
   "execution_count": null,
   "metadata": {},
   "outputs": [],
   "source": []
  }
 ],
 "metadata": {
  "kernelspec": {
   "display_name": "Python 3",
   "language": "python",
   "name": "python3"
  },
  "language_info": {
   "codemirror_mode": {
    "name": "ipython",
    "version": 3
   },
   "file_extension": ".py",
   "mimetype": "text/x-python",
   "name": "python",
   "nbconvert_exporter": "python",
   "pygments_lexer": "ipython3",
   "version": "3.7.4"
  }
 },
 "nbformat": 4,
 "nbformat_minor": 2
}
