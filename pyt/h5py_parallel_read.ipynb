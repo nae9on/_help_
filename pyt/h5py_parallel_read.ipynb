{
 "cells": [
  {
   "cell_type": "code",
   "execution_count": 1,
   "metadata": {},
   "outputs": [],
   "source": [
    "import h5py\n",
    "import numpy as np"
   ]
  },
  {
   "cell_type": "code",
   "execution_count": 2,
   "metadata": {},
   "outputs": [],
   "source": [
    "filename = \"D:/kdeturb/ref3D_Coarse/output/pseudo.h5\"\n",
    "\n",
    "# Create a new file object \n",
    "try:\n",
    "    fo = h5py.File(filename, 'r')\n",
    "except (OSError):\n",
    "    print('OSError: Unable to open file')"
   ]
  },
  {
   "cell_type": "code",
   "execution_count": 3,
   "metadata": {},
   "outputs": [
    {
     "name": "stdout",
     "output_type": "stream",
     "text": [
      "<HDF5 group \"/SF1\" (10 members)>\n",
      "<HDF5 group \"/SF2\" (10 members)>\n",
      "<HDF5 group \"/SF3\" (10 members)>\n",
      "<HDF5 group \"/Vel1\" (10 members)>\n",
      "<HDF5 group \"/Vel2\" (10 members)>\n",
      "<HDF5 group \"/Vel3\" (10 members)>\n",
      "<HDF5 group \"/WN1\" (10 members)>\n",
      "<HDF5 group \"/WN2\" (10 members)>\n",
      "<HDF5 group \"/WN3\" (10 members)>\n"
     ]
    }
   ],
   "source": [
    "# List all the variables\n",
    "vars = list(fo.values())\n",
    "for item in vars:\n",
    "    print(item)"
   ]
  },
  {
   "cell_type": "code",
   "execution_count": 4,
   "metadata": {},
   "outputs": [
    {
     "name": "stdout",
     "output_type": "stream",
     "text": [
      "01 02 03 04 05 06 07 08 09 10 "
     ]
    }
   ],
   "source": [
    "# List all the time keys\n",
    "timekeylist = list(vars[0].keys())\n",
    "for item in timekeylist:\n",
    "    print(item,end=' ')"
   ]
  },
  {
   "cell_type": "code",
   "execution_count": 5,
   "metadata": {},
   "outputs": [
    {
     "name": "stdout",
     "output_type": "stream",
     "text": [
      "Dataspace  (51, 51, 101)\n"
     ]
    }
   ],
   "source": [
    "# Print dataspace\n",
    "varname = 'Vel1';\n",
    "print(\"Dataspace \",fo[varname][timekeylist[0]].shape)"
   ]
  },
  {
   "cell_type": "code",
   "execution_count": 6,
   "metadata": {},
   "outputs": [],
   "source": [
    "# Function to sum sub-array across all times\n",
    "time = timekeylist[0]\n",
    "def extract(time):\n",
    "    sumX = np.zeros(51)\n",
    "    for time in timekeylist:\n",
    "        sumX = sumX + fo[varname][time][:,25,50]\n",
    "    return sumX"
   ]
  },
  {
   "cell_type": "code",
   "execution_count": 7,
   "metadata": {},
   "outputs": [
    {
     "name": "stdout",
     "output_type": "stream",
     "text": [
      "(51,)\n"
     ]
    }
   ],
   "source": [
    "# Sequential run\n",
    "sumX = extract(time)\n",
    "print(sumX.shape)"
   ]
  }
 ],
 "metadata": {
  "kernelspec": {
   "display_name": "Python 3",
   "language": "python",
   "name": "python3"
  },
  "language_info": {
   "codemirror_mode": {
    "name": "ipython",
    "version": 3
   },
   "file_extension": ".py",
   "mimetype": "text/x-python",
   "name": "python",
   "nbconvert_exporter": "python",
   "pygments_lexer": "ipython3",
   "version": "3.7.4"
  }
 },
 "nbformat": 4,
 "nbformat_minor": 2
}
